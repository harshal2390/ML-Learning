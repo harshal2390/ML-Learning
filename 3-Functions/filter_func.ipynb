{
 "cells": [
  {
   "cell_type": "code",
   "execution_count": 4,
   "id": "f34d50fa",
   "metadata": {},
   "outputs": [
    {
     "name": "stdout",
     "output_type": "stream",
     "text": [
      "Lambda add(5, 3): 8\n",
      "Lambda square(4): 16\n",
      "\n",
      "Original nums: [1, 2, 3, 4, 5]\n",
      "Squares with map: [1, 4, 9, 16, 25]\n",
      "Doubles with map: [2, 4, 6, 8, 10]\n",
      "\n",
      "Evens with filter: [2, 4]\n",
      "Greater than 2 with filter: [3, 4, 5]\n",
      "\n",
      "Square of even numbers: [4, 16]\n",
      "\n",
      "Words: ['apple', 'banana', 'pear', 'kiwi', 'mango']\n",
      "Capitalized words: ['APPLE', 'BANANA', 'PEAR', 'KIWI', 'MANGO']\n",
      "Words with length > 4: ['apple', 'banana', 'mango']\n"
     ]
    }
   ],
   "source": [
    "# 🔥 Lambda, map(), filter() in Python (all-in-one)\n",
    "\n",
    "# ------------------------------\n",
    "# 1️⃣ Lambda Function\n",
    "# ------------------------------\n",
    "# A lambda is an anonymous (nameless) function.\n",
    "# Syntax: lambda arguments : expression\n",
    "\n",
    "add = lambda x, y: x + y\n",
    "square = lambda n: n ** 2\n",
    "print(\"Lambda add(5, 3):\", add(5, 3))         # 8\n",
    "print(\"Lambda square(4):\", square(4))         # 16\n",
    "\n",
    "\n",
    "# ------------------------------\n",
    "# 2️⃣ map() Function\n",
    "# ------------------------------\n",
    "# map(func, iterable) -> applies function to each item of iterable\n",
    "\n",
    "nums = [1, 2, 3, 4, 5]\n",
    "squares = list(map(lambda x: x**2, nums))     # square each number\n",
    "doubles = list(map(lambda x: x*2, nums))      # double each number\n",
    "\n",
    "print(\"\\nOriginal nums:\", nums)\n",
    "print(\"Squares with map:\", squares)           # [1, 4, 9, 16, 25]\n",
    "print(\"Doubles with map:\", doubles)           # [2, 4, 6, 8, 10]\n",
    "\n",
    "\n",
    "# ------------------------------\n",
    "# 3️⃣ filter() Function\n",
    "# ------------------------------\n",
    "# filter(func, iterable) -> filters items based on condition\n",
    "\n",
    "evens = list(filter(lambda x: x % 2 == 0, nums))   # keep only even numbers\n",
    "greater_than_2 = list(filter(lambda x: x > 2, nums))\n",
    "\n",
    "print(\"\\nEvens with filter:\", evens)               # [2, 4]\n",
    "print(\"Greater than 2 with filter:\", greater_than_2)  # [3, 4, 5]\n",
    "\n",
    "\n",
    "# ------------------------------\n",
    "# 4️⃣ Combining map() + filter()\n",
    "# ------------------------------\n",
    "# Example: Square only even numbers\n",
    "\n",
    "even_squares = list(map(lambda x: x**2, filter(lambda x: x % 2 == 0, nums)))\n",
    "print(\"\\nSquare of even numbers:\", even_squares)   # [4, 16]\n",
    "\n",
    "\n",
    "# ------------------------------\n",
    "# 5️⃣ More Realistic Examples\n",
    "# ------------------------------\n",
    "words = [\"apple\", \"banana\", \"pear\", \"kiwi\", \"mango\"]\n",
    "\n",
    "# Capitalize all words\n",
    "capitalized = list(map(lambda w: w.upper(), words))\n",
    "\n",
    "# Filter words with length > 4\n",
    "long_words = list(filter(lambda w: len(w) > 4, words))\n",
    "\n",
    "print(\"\\nWords:\", words)\n",
    "print(\"Capitalized words:\", capitalized)\n",
    "print(\"Words with length > 4:\", long_words)\n"
   ]
  },
  {
   "cell_type": "code",
   "execution_count": 5,
   "id": "8032ee05",
   "metadata": {},
   "outputs": [],
   "source": [
    "def even(num):\n",
    "    if num%2==0:\n",
    "        return True"
   ]
  },
  {
   "cell_type": "code",
   "execution_count": 6,
   "id": "bec590ee",
   "metadata": {},
   "outputs": [
    {
     "data": {
      "text/plain": [
       "True"
      ]
     },
     "execution_count": 6,
     "metadata": {},
     "output_type": "execute_result"
    }
   ],
   "source": [
    "even(24)"
   ]
  },
  {
   "cell_type": "code",
   "execution_count": 7,
   "id": "f55627e7",
   "metadata": {},
   "outputs": [
    {
     "data": {
      "text/plain": [
       "[2, 4, 6, 8, 10, 12]"
      ]
     },
     "execution_count": 7,
     "metadata": {},
     "output_type": "execute_result"
    }
   ],
   "source": [
    "lst=[1,2,3,4,5,6,7,8,9,10,11,12]\n",
    "\n",
    "list(filter(even,lst))\n"
   ]
  },
  {
   "cell_type": "code",
   "execution_count": 8,
   "id": "23048afe",
   "metadata": {},
   "outputs": [
    {
     "name": "stdout",
     "output_type": "stream",
     "text": [
      "[6, 7, 8, 9]\n"
     ]
    }
   ],
   "source": [
    "## filter with a Lambda Function\n",
    "numbers=[1,2,3,4,5,6,7,8,9]\n",
    "greater_than_five=list(filter(lambda x:x>5,numbers))\n",
    "print(greater_than_five)"
   ]
  },
  {
   "cell_type": "code",
   "execution_count": 9,
   "id": "8c623815",
   "metadata": {},
   "outputs": [
    {
     "name": "stdout",
     "output_type": "stream",
     "text": [
      "[6, 8]\n"
     ]
    }
   ],
   "source": [
    "## Filter with a lambda function and multiple conditions\n",
    "numbers=[1,2,3,4,5,6,7,8,9]\n",
    "even_and_greater_than_five=list(filter(lambda x:x>5 and x%2==0,numbers))\n",
    "print(even_and_greater_than_five)"
   ]
  },
  {
   "cell_type": "code",
   "execution_count": 10,
   "id": "e16b3d7a",
   "metadata": {},
   "outputs": [
    {
     "data": {
      "text/plain": [
       "[{'name': 'Krish', 'age': 32}, {'name': 'Jack', 'age': 33}]"
      ]
     },
     "execution_count": 10,
     "metadata": {},
     "output_type": "execute_result"
    }
   ],
   "source": [
    "## Filter() to check if the age is greate than 25 in dictionaries\n",
    "people=[\n",
    "    {'name':'Krish','age':32},\n",
    "    {'name':'Jack','age':33},\n",
    "    {'name':'John','age':25}\n",
    "]\n",
    "\n",
    "def age_greater_than_25(person):\n",
    "    return person['age']>25\n",
    "\n",
    "list(filter(age_greater_than_25,people))"
   ]
  }
 ],
 "metadata": {
  "kernelspec": {
   "display_name": "py_env",
   "language": "python",
   "name": "python3"
  },
  "language_info": {
   "codemirror_mode": {
    "name": "ipython",
    "version": 3
   },
   "file_extension": ".py",
   "mimetype": "text/x-python",
   "name": "python",
   "nbconvert_exporter": "python",
   "pygments_lexer": "ipython3",
   "version": "3.12.11"
  }
 },
 "nbformat": 4,
 "nbformat_minor": 5
}
