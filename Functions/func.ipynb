{
 "cells": [
  {
   "cell_type": "code",
   "execution_count": 3,
   "id": "3ea6f2e4",
   "metadata": {},
   "outputs": [],
   "source": [
    "def even_or_odd(num):\n",
    "    if num%2==0:\n",
    "        print(\"even\",num)\n",
    "    else:\n",
    "        print(\"Odd\",num)\n",
    "\n"
   ]
  },
  {
   "cell_type": "code",
   "execution_count": 4,
   "id": "fe8349b0",
   "metadata": {},
   "outputs": [
    {
     "name": "stdout",
     "output_type": "stream",
     "text": [
      "Odd 3\n"
     ]
    }
   ],
   "source": [
    "even_or_odd(3)"
   ]
  },
  {
   "cell_type": "code",
   "execution_count": null,
   "id": "cb38935a",
   "metadata": {},
   "outputs": [
    {
     "name": "stdout",
     "output_type": "stream",
     "text": [
      "Hello Guest welcome\n"
     ]
    }
   ],
   "source": [
    "def greet(name=\"Guest\"): #default value for parameter\n",
    "    print(f\"Hello {name} welcome\")\n",
    "\n",
    "greet()"
   ]
  },
  {
   "cell_type": "code",
   "execution_count": 10,
   "id": "a516c415",
   "metadata": {},
   "outputs": [
    {
     "name": "stdout",
     "output_type": "stream",
     "text": [
      "1\n",
      "2\n",
      "3\n",
      "4\n",
      "5\n",
      "6\n",
      "7\n",
      "harshal\n",
      "name:harshal\n",
      "age:22\n",
      "Country:india\n"
     ]
    }
   ],
   "source": [
    "# variable length argument\n",
    "# postional and keyword arguments\n",
    "#1)postional argument\n",
    "def print_num(*args):\n",
    "    for number in args:\n",
    "        print(number)\n",
    "\n",
    "print_num(1,2,3,4,5,6,7,\"harshal\")\n",
    "\n",
    "\n",
    "#2)keyword args\n",
    "def print_details(**kwargs):\n",
    "    for key,val in kwargs.items():\n",
    "        print(f\"{key}:{val}\")\n",
    "\n",
    "print_details(name=\"harshal\",age=22,Country=\"india\")\n",
    "\n"
   ]
  },
  {
   "cell_type": "code",
   "execution_count": null,
   "id": "0b0b695f",
   "metadata": {},
   "outputs": [
    {
     "data": {
      "text/plain": [
       "(6, 12)"
      ]
     },
     "execution_count": 13,
     "metadata": {},
     "output_type": "execute_result"
    }
   ],
   "source": [
    "# we can return multiple value from func\n",
    "def multiply(a,b):\n",
    "    return a*b,a+10\n",
    "\n",
    "multiply(2,3)"
   ]
  },
  {
   "cell_type": "code",
   "execution_count": null,
   "id": "a897d4cf",
   "metadata": {},
   "outputs": [],
   "source": []
  },
  {
   "cell_type": "code",
   "execution_count": null,
   "id": "7577f893",
   "metadata": {},
   "outputs": [],
   "source": []
  },
  {
   "cell_type": "code",
   "execution_count": null,
   "id": "4175adec",
   "metadata": {},
   "outputs": [],
   "source": []
  },
  {
   "cell_type": "code",
   "execution_count": null,
   "id": "3ff07a70",
   "metadata": {},
   "outputs": [],
   "source": []
  },
  {
   "cell_type": "code",
   "execution_count": null,
   "id": "22512445",
   "metadata": {},
   "outputs": [],
   "source": []
  },
  {
   "cell_type": "code",
   "execution_count": null,
   "id": "fdb4da27",
   "metadata": {},
   "outputs": [],
   "source": []
  }
 ],
 "metadata": {
  "kernelspec": {
   "display_name": "py_env",
   "language": "python",
   "name": "python3"
  },
  "language_info": {
   "codemirror_mode": {
    "name": "ipython",
    "version": 3
   },
   "file_extension": ".py",
   "mimetype": "text/x-python",
   "name": "python",
   "nbconvert_exporter": "python",
   "pygments_lexer": "ipython3",
   "version": "3.12.11"
  }
 },
 "nbformat": 4,
 "nbformat_minor": 5
}
