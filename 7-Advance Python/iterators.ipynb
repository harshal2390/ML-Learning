{
 "cells": [
  {
   "cell_type": "code",
   "execution_count": 21,
   "id": "d6234eef",
   "metadata": {},
   "outputs": [
    {
     "name": "stdout",
     "output_type": "stream",
     "text": [
      "1\n",
      "2\n",
      "3\n",
      "4\n",
      "5\n",
      "6\n"
     ]
    }
   ],
   "source": [
    "my_list=[1,2,3,4,5,6]\n",
    "for i in my_list:\n",
    "    print(i)"
   ]
  },
  {
   "cell_type": "code",
   "execution_count": 22,
   "id": "77fa30af",
   "metadata": {},
   "outputs": [
    {
     "data": {
      "text/plain": [
       "list"
      ]
     },
     "execution_count": 22,
     "metadata": {},
     "output_type": "execute_result"
    }
   ],
   "source": [
    "type(my_list)"
   ]
  },
  {
   "cell_type": "code",
   "execution_count": 23,
   "id": "8bfc4806",
   "metadata": {},
   "outputs": [
    {
     "name": "stdout",
     "output_type": "stream",
     "text": [
      "[1, 2, 3, 4, 5, 6]\n"
     ]
    }
   ],
   "source": [
    "print(my_list)"
   ]
  },
  {
   "cell_type": "code",
   "execution_count": 24,
   "id": "186f27b9",
   "metadata": {},
   "outputs": [
    {
     "name": "stdout",
     "output_type": "stream",
     "text": [
      "<class 'list_iterator'>\n"
     ]
    }
   ],
   "source": [
    "iterator=iter(my_list)\n",
    "print(type(iterator))"
   ]
  },
  {
   "cell_type": "code",
   "execution_count": 25,
   "id": "0de6095f",
   "metadata": {},
   "outputs": [
    {
     "data": {
      "text/plain": [
       "<list_iterator at 0x1cea80f7b80>"
      ]
     },
     "execution_count": 25,
     "metadata": {},
     "output_type": "execute_result"
    }
   ],
   "source": [
    "iterator"
   ]
  },
  {
   "cell_type": "code",
   "execution_count": 26,
   "id": "a6d37d77",
   "metadata": {},
   "outputs": [
    {
     "data": {
      "text/plain": [
       "1"
      ]
     },
     "execution_count": 26,
     "metadata": {},
     "output_type": "execute_result"
    }
   ],
   "source": [
    "next(iterator)"
   ]
  },
  {
   "cell_type": "code",
   "execution_count": 27,
   "id": "705eede7",
   "metadata": {},
   "outputs": [
    {
     "name": "stdout",
     "output_type": "stream",
     "text": [
      "2\n"
     ]
    }
   ],
   "source": [
    "try:\n",
    "    print(next(iterator))\n",
    "except StopIteration:\n",
    "    print(\"the elements are ended\")"
   ]
  },
  {
   "cell_type": "code",
   "execution_count": 28,
   "id": "6b207127",
   "metadata": {},
   "outputs": [
    {
     "name": "stdout",
     "output_type": "stream",
     "text": [
      "h\n",
      "e\n"
     ]
    }
   ],
   "source": [
    "my_str=\"hello\"\n",
    "str_itr=iter(my_str)\n",
    "\n",
    "print(next(str_itr))\n",
    "print(next(str_itr))"
   ]
  },
  {
   "cell_type": "code",
   "execution_count": 29,
   "id": "e4582d12",
   "metadata": {},
   "outputs": [
    {
     "name": "stdout",
     "output_type": "stream",
     "text": [
      "Using next():\n",
      "10\n",
      "20\n",
      "\n",
      "Using for loop:\n",
      "10 20 30 40 \n",
      "\n",
      "Custom Iterator (CountUpto):\n",
      "1 2 3 4 5 \n",
      "\n",
      "Generator (Squares):\n",
      "1 4 9 16 25 "
     ]
    }
   ],
   "source": [
    "# ITERATORS IN PYTHON - COMPLETE DEMO\n",
    "\n",
    "# 1. Basic Iterable (list) and converting it into Iterator\n",
    "numbers = [10, 20, 30, 40]\n",
    "it = iter(numbers)\n",
    "\n",
    "print(\"Using next():\")\n",
    "print(next(it))  # 10\n",
    "print(next(it))  # 20\n",
    "\n",
    "# 2. for loop automatically uses iter() and next()\n",
    "print(\"\\nUsing for loop:\")\n",
    "for x in numbers:\n",
    "    print(x, end=\" \")\n",
    "\n",
    "# 3. Custom Iterator Class (generate numbers up to n)\n",
    "class CountUpto:\n",
    "    def __init__(self, n):\n",
    "        self.n = n\n",
    "        self.current = 1\n",
    "    \n",
    "    def __iter__(self):\n",
    "        return self\n",
    "    \n",
    "    def __next__(self):\n",
    "        if self.current <= self.n:\n",
    "            val = self.current\n",
    "            self.current += 1\n",
    "            return val\n",
    "        else:\n",
    "            raise StopIteration\n",
    "\n",
    "print(\"\\n\\nCustom Iterator (CountUpto):\")\n",
    "for i in CountUpto(5):\n",
    "    print(i, end=\" \")\n",
    "\n",
    "# 4. Generator (shortcut for iterators)\n",
    "def squares(n):\n",
    "    for i in range(1, n+1):\n",
    "        yield i * i\n",
    "\n",
    "print(\"\\n\\nGenerator (Squares):\")\n",
    "for sq in squares(5):\n",
    "    print(sq, end=\" \")\n"
   ]
  },
  {
   "cell_type": "code",
   "execution_count": 30,
   "id": "7f7b3d11",
   "metadata": {},
   "outputs": [
    {
     "name": "stdout",
     "output_type": "stream",
     "text": [
      "Reading file using iterator:\n",
      "Line 1: Python Iterators\n",
      "Line 2: Useful in File Handling\n",
      "Line 3: End of File\n"
     ]
    }
   ],
   "source": [
    "# REAL-WORLD ITERATOR EXAMPLE 1: FILE READING\n",
    "\n",
    "try:\n",
    "    with open(\"sample.txt\", \"w\") as f:\n",
    "        f.write(\"Line 1: Python Iterators\\nLine 2: Useful in File Handling\\nLine 3: End of File\")\n",
    "\n",
    "    # Using iterator to read file line by line\n",
    "    with open(\"sample.txt\", \"r\") as f:\n",
    "        file_iter = iter(f)\n",
    "        print(\"Reading file using iterator:\")\n",
    "        for line in file_iter:\n",
    "            print(line.strip())  # strip removes newline character\n",
    "\n",
    "except Exception as e:\n",
    "    print(\"Error:\", e)\n"
   ]
  },
  {
   "cell_type": "code",
   "execution_count": 31,
   "id": "a3979321",
   "metadata": {},
   "outputs": [
    {
     "name": "stdout",
     "output_type": "stream",
     "text": [
      "Streaming sensor data:\n",
      "Sensor reading 1\n",
      "Sensor reading 2\n",
      "Sensor reading 3\n",
      "Sensor reading 4\n",
      "Sensor reading 5\n"
     ]
    }
   ],
   "source": [
    "# REAL-WORLD ITERATOR EXAMPLE 2: INFINITE DATA STREAM (Sensor Simulation)\n",
    "\n",
    "import time\n",
    "\n",
    "def sensor_data():\n",
    "    value = 0\n",
    "    while True:  # infinite generator\n",
    "        value += 1\n",
    "        yield f\"Sensor reading {value}\"\n",
    "\n",
    "# simulate reading first 5 values\n",
    "sensor = sensor_data()\n",
    "print(\"Streaming sensor data:\")\n",
    "for _ in range(5):\n",
    "    print(next(sensor))\n",
    "    time.sleep(0.5)  # mimic delay between readings\n"
   ]
  },
  {
   "cell_type": "code",
   "execution_count": null,
   "id": "65e5fb37",
   "metadata": {},
   "outputs": [],
   "source": []
  },
  {
   "cell_type": "code",
   "execution_count": null,
   "id": "fc1a1fe0",
   "metadata": {},
   "outputs": [],
   "source": []
  },
  {
   "cell_type": "code",
   "execution_count": null,
   "id": "ad2a2a39",
   "metadata": {},
   "outputs": [],
   "source": []
  },
  {
   "cell_type": "code",
   "execution_count": null,
   "id": "2710e0c4",
   "metadata": {},
   "outputs": [],
   "source": []
  },
  {
   "cell_type": "code",
   "execution_count": null,
   "id": "5908eb3e",
   "metadata": {},
   "outputs": [],
   "source": []
  },
  {
   "cell_type": "code",
   "execution_count": null,
   "id": "8c5447af",
   "metadata": {},
   "outputs": [],
   "source": []
  },
  {
   "cell_type": "code",
   "execution_count": null,
   "id": "43366e4e",
   "metadata": {},
   "outputs": [],
   "source": []
  }
 ],
 "metadata": {
  "kernelspec": {
   "display_name": "py_env",
   "language": "python",
   "name": "python3"
  },
  "language_info": {
   "codemirror_mode": {
    "name": "ipython",
    "version": 3
   },
   "file_extension": ".py",
   "mimetype": "text/x-python",
   "name": "python",
   "nbconvert_exporter": "python",
   "pygments_lexer": "ipython3",
   "version": "3.12.11"
  }
 },
 "nbformat": 4,
 "nbformat_minor": 5
}
