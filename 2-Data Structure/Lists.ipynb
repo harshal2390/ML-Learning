{
 "cells": [
  {
   "cell_type": "code",
   "execution_count": null,
   "id": "4d6b868e",
   "metadata": {},
   "outputs": [
    {
     "name": "stdout",
     "output_type": "stream",
     "text": [
      "Initial List: [10, 20, 30, 40, 50]\n",
      "\n",
      "--- Accessing Elements ---\n",
      "First: 10\n",
      "Last: 50\n",
      "Slice 1:4: [20, 30, 40]\n",
      "First 3: [10, 20, 30]\n",
      "Every 2nd: [10, 30, 50]\n",
      "\n",
      "--- Updating Elements ---\n",
      "After update index 2: [10, 20, 99, 40, 50]\n",
      "\n",
      "--- Adding Elements ---\n",
      "Append 60: [10, 20, 99, 40, 50, 60]\n",
      "Insert 25 at index 2: [10, 20, 25, 99, 40, 50, 60]\n",
      "Extend [70, 80]: [10, 20, 25, 99, 40, 50, 60, 70, 80]\n",
      "\n",
      "--- Removing Elements ---\n",
      "Remove 99: [10, 20, 25, 40, 50, 60, 70, 80]\n",
      "Pop last: 80 -> [10, 20, 25, 40, 50, 60, 70]\n",
      "Pop index 2: 25 -> [10, 20, 40, 50, 60, 70]\n",
      "Delete index 0: [20, 40, 50, 60, 70]\n",
      "Clear all: []\n",
      "\n",
      "--- Searching ---\n",
      "20 in list? True\n",
      "Count of 20: 2\n",
      "Index of 40: 3\n",
      "\n",
      "--- Sorting & Reversing ---\n",
      "Sorted: [10, 20, 20, 30, 40, 50]\n",
      "Reverse sort: [50, 40, 30, 20, 20, 10]\n",
      "Reversed: [10, 20, 20, 30, 40, 50]\n",
      "\n",
      "--- Copying ---\n",
      "Copied list: [10, 20, 20, 30, 40, 50]\n",
      "\n",
      "--- Looping ---\n",
      "For loop: 10 20 20 30 40 50 \n",
      "Index loop: 10 20 20 30 40 50 \n",
      "\n",
      "--- List Comprehension ---\n",
      "Squares: [100, 400, 400, 900, 1600, 2500]\n",
      "\n",
      "--- Nested Lists ---\n",
      "Nested: [[1, 2], [3, 4], [5, 6]]\n",
      "Access nested [1][0]: 3\n",
      "\n",
      "--- Other Useful Methods ---\n",
      "Length: 5\n",
      "Max: 50\n",
      "Min: 10\n",
      "Sum: 150\n"
     ]
    }
   ],
   "source": [
    "#  chatgpt given\n",
    "# ===========================================\n",
    "# Python List - Complete Operations Walkthrough\n",
    "# ===========================================\n",
    "\n",
    "# Initial list\n",
    "nums = [10, 20, 30, 40, 50]\n",
    "print(\"Initial List:\", nums)\n",
    "\n",
    "# 1. Accessing Elements\n",
    "print(\"\\n--- Accessing Elements ---\")\n",
    "print(\"First:\", nums[0])\n",
    "print(\"Last:\", nums[-1])\n",
    "print(\"Slice 1:4:\", nums[1:4])\n",
    "print(\"First 3:\", nums[:3])\n",
    "print(\"Every 2nd:\", nums[::2])\n",
    "\n",
    "# 2. Updating Elements\n",
    "print(\"\\n--- Updating Elements ---\")\n",
    "nums[2] = 99\n",
    "print(\"After update index 2:\", nums)\n",
    "\n",
    "# 3. Adding Elements\n",
    "print(\"\\n--- Adding Elements ---\")\n",
    "nums.append(60)\n",
    "print(\"Append 60:\", nums)\n",
    "nums.insert(2, 25)\n",
    "print(\"Insert 25 at index 2:\", nums)\n",
    "nums.extend([70, 80])\n",
    "print(\"Extend [70, 80]:\", nums)\n",
    "\n",
    "# 4. Removing Elements\n",
    "print(\"\\n--- Removing Elements ---\")\n",
    "nums.remove(99)\n",
    "print(\"Remove 99:\", nums)\n",
    "print(\"Pop last:\", nums.pop(), \"->\", nums)\n",
    "print(\"Pop index 2:\", nums.pop(2), \"->\", nums)\n",
    "del nums[0]\n",
    "print(\"Delete index 0:\", nums)\n",
    "nums.clear()\n",
    "print(\"Clear all:\", nums)\n",
    "\n",
    "# Reset list for further operations\n",
    "nums = [10, 20, 30, 40, 50, 20]\n",
    "\n",
    "# 5. Searching\n",
    "print(\"\\n--- Searching ---\")\n",
    "print(\"20 in list?\", 20 in nums)\n",
    "print(\"Count of 20:\", nums.count(20))\n",
    "print(\"Index of 40:\", nums.index(40))\n",
    "\n",
    "# 6. Sorting & Reversing\n",
    "print(\"\\n--- Sorting & Reversing ---\")\n",
    "nums.sort()\n",
    "print(\"Sorted:\", nums)\n",
    "nums.sort(reverse=True)\n",
    "print(\"Reverse sort:\", nums)\n",
    "nums.reverse()\n",
    "print(\"Reversed:\", nums)\n",
    "\n",
    "# 7. Copying\n",
    "print(\"\\n--- Copying ---\")\n",
    "nums2 = nums.copy()\n",
    "print(\"Copied list:\", nums2)\n",
    "\n",
    "# 8. Looping\n",
    "print(\"\\n--- Looping ---\")\n",
    "print(\"For loop:\", end=\" \")\n",
    "for x in nums:\n",
    "    print(x, end=\" \")\n",
    "print(\"\\nIndex loop:\", end=\" \")\n",
    "for i in range(len(nums)):\n",
    "    print(nums[i], end=\" \")\n",
    "\n",
    "# 9. List Comprehension\n",
    "print(\"\\n\\n--- List Comprehension ---\")\n",
    "squares = [x*x for x in nums]\n",
    "print(\"Squares:\", squares)\n",
    "\n",
    "# 10. Nested Lists\n",
    "print(\"\\n--- Nested Lists ---\")\n",
    "nested = [[1, 2], [3, 4], [5, 6]]\n",
    "print(\"Nested:\", nested)\n",
    "print(\"Access nested [1][0]:\", nested[1][0])\n",
    "\n",
    "# 11. Other Useful Methods\n",
    "print(\"\\n--- Other Useful Methods ---\")\n",
    "nums = [10, 20, 30, 40, 50]\n",
    "print(\"Length:\", len(nums))\n",
    "print(\"Max:\", max(nums))\n",
    "print(\"Min:\", min(nums))\n",
    "print(\"Sum:\", sum(nums))\n"
   ]
  },
  {
   "cell_type": "code",
   "execution_count": 9,
   "id": "ae88a282",
   "metadata": {},
   "outputs": [
    {
     "name": "stdout",
     "output_type": "stream",
     "text": [
      "Negative Indexing: 50 40\n",
      "Reverse: [50, 40, 30, 20, 10]\n",
      "Step Slice [1:5:2]: [20, 40]\n",
      "\n",
      "Shallow vs Deep Copy\n",
      "Original: [[99, 2], [3, 4]]\n",
      "Shallow copy: [[99, 2], [3, 4]]\n",
      "Deep copy: [[1, 2], [3, 4]]\n",
      "\n",
      "* Operator (repeat): [0, 0, 0, 0, 0]\n",
      "Repeat list: [1, 2, 1, 2, 1, 2]\n",
      "Nested * pitfall: [[9, 0, 0], [9, 0, 0], [9, 0, 0]]\n",
      "\n",
      "Concatenation: [1, 2, 3, 4]\n",
      "\n",
      "Built-in Functions\n",
      "any: True\n",
      "all: True\n",
      "reversed: [30, 20, 10]\n",
      "\n",
      "sorted(nums): [1, 2, 3, 4]\n",
      "nums after sorted(): [3, 1, 4, 2]\n",
      "nums after sort(): [1, 2, 3, 4]\n",
      "\n",
      "Sort by length: ['apple', 'banana', 'cherry']\n",
      "\n",
      "Stack pop: 2 -> [1]\n",
      "Queue popleft: 1 -> deque([2, 3, 4])\n",
      "\n",
      "Permutations: [(1, 2, 3), (1, 3, 2), (2, 1, 3), (2, 3, 1), (3, 1, 2), (3, 2, 1)]\n",
      "Combinations of 2: [(1, 2), (1, 3), (2, 3)]\n"
     ]
    }
   ],
   "source": [
    "#given by chatgpt\n",
    "# ===========================================\n",
    "# Advanced Python List Operations\n",
    "# ===========================================\n",
    "\n",
    "# 1. Negative Indexing\n",
    "nums = [10, 20, 30, 40, 50]\n",
    "print(\"Negative Indexing:\", nums[-1], nums[-2])  # 50, 40\n",
    " \n",
    "# 2. Step Slicing\n",
    "print(\"Reverse:\", nums[::-1])        # [50, 40, 30, 20, 10]\n",
    "print(\"Step Slice [1:5:2]:\", nums[1:5:2])  # [20, 40]\n",
    "\n",
    "# 3. Shallow Copy vs Deep Copy\n",
    "import copy\n",
    "nums = [[1, 2], [3, 4]]\n",
    "copy1 = nums.copy()       # Shallow copy\n",
    "copy2 = nums[:]           # Another shallow copy\n",
    "copy3 = copy.deepcopy(nums) # Deep copy\n",
    "nums[0][0] = 99\n",
    "print(\"\\nShallow vs Deep Copy\")\n",
    "print(\"Original:\", nums)\n",
    "print(\"Shallow copy:\", copy1)\n",
    "print(\"Deep copy:\", copy3)\n",
    "\n",
    "# 4. * Operator\n",
    "nums = [0] * 5\n",
    "print(\"\\n* Operator (repeat):\", nums)  # [0, 0, 0, 0, 0]\n",
    "repeat = [1, 2] * 3\n",
    "print(\"Repeat list:\", repeat)          # [1, 2, 1, 2, 1, 2]\n",
    "\n",
    "# Pitfall with nested lists\n",
    "arr = [[0] * 3] * 3\n",
    "arr[0][0] = 9\n",
    "print(\"Nested * pitfall:\", arr)\n",
    "\n",
    "# 5. + Operator (Concatenation)\n",
    "a = [1, 2]; b = [3, 4]\n",
    "print(\"\\nConcatenation:\", a + b)\n",
    "\n",
    "# 6. Built-in Functions\n",
    "nums = [10, 20, 30]\n",
    "print(\"\\nBuilt-in Functions\")\n",
    "print(\"any:\", any(nums))     # True\n",
    "print(\"all:\", all(nums))     # True\n",
    "print(\"reversed:\", list(reversed(nums))) # [30, 20, 10]\n",
    "\n",
    "# 7. sort() vs sorted()\n",
    "nums = [3, 1, 4, 2]\n",
    "print(\"\\nsorted(nums):\", sorted(nums))\n",
    "print(\"nums after sorted():\", nums)\n",
    "nums.sort()\n",
    "print(\"nums after sort():\", nums)\n",
    "\n",
    "# 8. Key-based Sorting\n",
    "words = [\"banana\", \"apple\", \"cherry\"]\n",
    "words.sort(key=len)\n",
    "print(\"\\nSort by length:\", words)\n",
    "\n",
    "# 9. List as Stack (LIFO)\n",
    "stack = []\n",
    "stack.append(1)\n",
    "stack.append(2)\n",
    "print(\"\\nStack pop:\", stack.pop(), \"->\", stack)\n",
    "\n",
    "# 10. List as Queue (using deque)\n",
    "from collections import deque\n",
    "queue = deque([1, 2, 3])\n",
    "queue.append(4)            # enqueue\n",
    "print(\"Queue popleft:\", queue.popleft(), \"->\", queue)\n",
    "\n",
    "# 11. Itertools with Lists\n",
    "import itertools\n",
    "nums = [1, 2, 3]\n",
    "print(\"\\nPermutations:\", list(itertools.permutations(nums)))\n",
    "print(\"Combinations of 2:\", list(itertools.combinations(nums, 2)))\n"
   ]
  },
  {
   "cell_type": "code",
   "execution_count": 8,
   "id": "a5b88351",
   "metadata": {},
   "outputs": [
    {
     "name": "stdout",
     "output_type": "stream",
     "text": [
      "<class 'list'>\n",
      "<class 'list'>\n"
     ]
    }
   ],
   "source": [
    "lst=[]\n",
    "print(type(lst))\n",
    "mixed_list=[1,\"helo\",3.14,True]\n",
    "print(type(mixed_list))\n"
   ]
  },
  {
   "cell_type": "code",
   "execution_count": 13,
   "id": "64207295",
   "metadata": {},
   "outputs": [
    {
     "name": "stdout",
     "output_type": "stream",
     "text": [
      "[0, 2, 4, 6, 8, 10, 12, 14, 16, 18, 20]\n"
     ]
    }
   ],
   "source": [
    "# list comprhension\n",
    "abc=[]\n",
    "for x in range(11):\n",
    "    abc.append(x*2)\n",
    "print(abc)"
   ]
  },
  {
   "cell_type": "code",
   "execution_count": 14,
   "id": "2c79c281",
   "metadata": {},
   "outputs": [
    {
     "name": "stdout",
     "output_type": "stream",
     "text": [
      "[0, 3, 6, 9, 12, 15, 18, 21, 24, 27]\n"
     ]
    }
   ],
   "source": [
    "xyz=[x * 3 for x in range(10)]\n",
    "print(xyz)"
   ]
  },
  {
   "cell_type": "code",
   "execution_count": 15,
   "id": "e0267d14",
   "metadata": {},
   "outputs": [
    {
     "name": "stdout",
     "output_type": "stream",
     "text": [
      "[2, 4, 6, 8, 10]\n"
     ]
    }
   ],
   "source": [
    "even_num=[num for num in range(1,11) if num%2==0]\n",
    "print(even_num)"
   ]
  },
  {
   "cell_type": "code",
   "execution_count": 16,
   "id": "f49a3a9d",
   "metadata": {},
   "outputs": [
    {
     "name": "stdout",
     "output_type": "stream",
     "text": [
      "[[1, 'a'], [1, 'b'], [1, 'c'], [1, 'd'], [2, 'a'], [2, 'b'], [2, 'c'], [2, 'd'], [3, 'a'], [3, 'b'], [3, 'c'], [3, 'd'], [4, 'a'], [4, 'b'], [4, 'c'], [4, 'd']]\n"
     ]
    }
   ],
   "source": [
    "# nested list comprehension \n",
    "lst1=[1,2,3,4]\n",
    "lst2=['a','b','c','d']\n",
    "\n",
    "par=[[i,j]for i in lst1 for j in lst2]\n",
    "print(par)"
   ]
  },
  {
   "cell_type": "code",
   "execution_count": 17,
   "id": "7658a77e",
   "metadata": {},
   "outputs": [
    {
     "name": "stdout",
     "output_type": "stream",
     "text": [
      "[5, 5, 6, 4, 13]\n"
     ]
    }
   ],
   "source": [
    "## List Comprehension with function calls\n",
    "words = [\"hello\", \"world\", \"python\", \"list\", \"comprehension\"]\n",
    "lengths = [len(word) for word in words]\n",
    "print(lengths)  # Output: [5, 5, 6, 4, 13]\n",
    "\n"
   ]
  },
  {
   "cell_type": "code",
   "execution_count": null,
   "id": "b512f6a4",
   "metadata": {},
   "outputs": [],
   "source": []
  },
  {
   "cell_type": "code",
   "execution_count": null,
   "id": "7a8916b4",
   "metadata": {},
   "outputs": [],
   "source": []
  },
  {
   "cell_type": "code",
   "execution_count": null,
   "id": "d1ce5c1c",
   "metadata": {},
   "outputs": [],
   "source": []
  },
  {
   "cell_type": "code",
   "execution_count": null,
   "id": "de243b3d",
   "metadata": {},
   "outputs": [],
   "source": []
  },
  {
   "cell_type": "code",
   "execution_count": null,
   "id": "557dc698",
   "metadata": {},
   "outputs": [],
   "source": []
  },
  {
   "cell_type": "code",
   "execution_count": null,
   "id": "2b2d0f5b",
   "metadata": {},
   "outputs": [],
   "source": []
  },
  {
   "cell_type": "code",
   "execution_count": null,
   "id": "1270c947",
   "metadata": {},
   "outputs": [],
   "source": []
  },
  {
   "cell_type": "code",
   "execution_count": null,
   "id": "83f8487f",
   "metadata": {},
   "outputs": [],
   "source": []
  },
  {
   "cell_type": "code",
   "execution_count": null,
   "id": "e3a0b562",
   "metadata": {},
   "outputs": [],
   "source": []
  },
  {
   "cell_type": "code",
   "execution_count": null,
   "id": "b14cea54",
   "metadata": {},
   "outputs": [],
   "source": []
  },
  {
   "cell_type": "code",
   "execution_count": null,
   "id": "7b1a01fe",
   "metadata": {},
   "outputs": [],
   "source": []
  },
  {
   "cell_type": "code",
   "execution_count": null,
   "id": "a8c7547f",
   "metadata": {},
   "outputs": [],
   "source": []
  },
  {
   "cell_type": "code",
   "execution_count": null,
   "id": "d1ecd795",
   "metadata": {},
   "outputs": [],
   "source": []
  },
  {
   "cell_type": "code",
   "execution_count": null,
   "id": "e1166d66",
   "metadata": {},
   "outputs": [],
   "source": []
  },
  {
   "cell_type": "code",
   "execution_count": null,
   "id": "66494dd7",
   "metadata": {},
   "outputs": [],
   "source": []
  },
  {
   "cell_type": "code",
   "execution_count": null,
   "id": "fdcec62a",
   "metadata": {},
   "outputs": [],
   "source": []
  },
  {
   "cell_type": "code",
   "execution_count": null,
   "id": "dcf45a7f",
   "metadata": {},
   "outputs": [],
   "source": []
  },
  {
   "cell_type": "code",
   "execution_count": null,
   "id": "abd10056",
   "metadata": {},
   "outputs": [],
   "source": []
  },
  {
   "cell_type": "code",
   "execution_count": null,
   "id": "68bc3536",
   "metadata": {},
   "outputs": [],
   "source": []
  },
  {
   "cell_type": "code",
   "execution_count": null,
   "id": "22d35263",
   "metadata": {},
   "outputs": [],
   "source": []
  },
  {
   "cell_type": "code",
   "execution_count": null,
   "id": "682fe1c9",
   "metadata": {},
   "outputs": [],
   "source": []
  },
  {
   "cell_type": "code",
   "execution_count": null,
   "id": "dac2a140",
   "metadata": {},
   "outputs": [],
   "source": []
  },
  {
   "cell_type": "code",
   "execution_count": null,
   "id": "b80ee475",
   "metadata": {},
   "outputs": [],
   "source": []
  },
  {
   "cell_type": "code",
   "execution_count": null,
   "id": "1c9624c3",
   "metadata": {},
   "outputs": [],
   "source": []
  },
  {
   "cell_type": "code",
   "execution_count": null,
   "id": "3cf26ed9",
   "metadata": {},
   "outputs": [],
   "source": []
  },
  {
   "cell_type": "code",
   "execution_count": null,
   "id": "eb4db231",
   "metadata": {},
   "outputs": [],
   "source": []
  },
  {
   "cell_type": "code",
   "execution_count": null,
   "id": "8a79975c",
   "metadata": {},
   "outputs": [],
   "source": []
  },
  {
   "cell_type": "code",
   "execution_count": null,
   "id": "56333f8f",
   "metadata": {},
   "outputs": [],
   "source": []
  },
  {
   "cell_type": "code",
   "execution_count": null,
   "id": "ca0ec7b3",
   "metadata": {},
   "outputs": [],
   "source": []
  },
  {
   "cell_type": "code",
   "execution_count": null,
   "id": "d9a70df1",
   "metadata": {},
   "outputs": [],
   "source": []
  }
 ],
 "metadata": {
  "kernelspec": {
   "display_name": "py_env",
   "language": "python",
   "name": "python3"
  },
  "language_info": {
   "codemirror_mode": {
    "name": "ipython",
    "version": 3
   },
   "file_extension": ".py",
   "mimetype": "text/x-python",
   "name": "python",
   "nbconvert_exporter": "python",
   "pygments_lexer": "ipython3",
   "version": "3.12.11"
  }
 },
 "nbformat": 4,
 "nbformat_minor": 5
}
