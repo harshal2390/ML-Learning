{
 "cells": [
  {
   "cell_type": "code",
   "execution_count": 2,
   "id": "a381a759",
   "metadata": {},
   "outputs": [
    {
     "ename": "NameError",
     "evalue": "name 'b' is not defined",
     "output_type": "error",
     "traceback": [
      "\u001b[31m---------------------------------------------------------------------------\u001b[39m",
      "\u001b[31mNameError\u001b[39m                                 Traceback (most recent call last)",
      "\u001b[36mCell\u001b[39m\u001b[36m \u001b[39m\u001b[32mIn[2]\u001b[39m\u001b[32m, line 1\u001b[39m\n\u001b[32m----> \u001b[39m\u001b[32m1\u001b[39m a=\u001b[43mb\u001b[49m\n",
      "\u001b[31mNameError\u001b[39m: name 'b' is not defined"
     ]
    }
   ],
   "source": [
    "a=b"
   ]
  },
  {
   "cell_type": "code",
   "execution_count": null,
   "id": "0e620bf9",
   "metadata": {},
   "outputs": [
    {
     "name": "stdout",
     "output_type": "stream",
     "text": [
      "b is not defined please define it first\n"
     ]
    }
   ],
   "source": [
    "#exception try block to catch error except block\n",
    "try:\n",
    "    a=b\n",
    "except:\n",
    "    print(\"b is not defined please define it first\")"
   ]
  },
  {
   "cell_type": "code",
   "execution_count": 4,
   "id": "ca8bd91b",
   "metadata": {},
   "outputs": [
    {
     "name": "stdout",
     "output_type": "stream",
     "text": [
      "name 'b' is not defined\n"
     ]
    }
   ],
   "source": [
    "try:\n",
    "    a=b\n",
    "except NameError as ex:\n",
    "    print(ex)"
   ]
  },
  {
   "cell_type": "code",
   "execution_count": 5,
   "id": "80cd4699",
   "metadata": {},
   "outputs": [
    {
     "ename": "ZeroDivisionError",
     "evalue": "division by zero",
     "output_type": "error",
     "traceback": [
      "\u001b[31m---------------------------------------------------------------------------\u001b[39m",
      "\u001b[31mZeroDivisionError\u001b[39m                         Traceback (most recent call last)",
      "\u001b[36mCell\u001b[39m\u001b[36m \u001b[39m\u001b[32mIn[5]\u001b[39m\u001b[32m, line 1\u001b[39m\n\u001b[32m----> \u001b[39m\u001b[32m1\u001b[39m result=\u001b[32;43m1\u001b[39;49m\u001b[43m/\u001b[49m\u001b[32;43m0\u001b[39;49m\n",
      "\u001b[31mZeroDivisionError\u001b[39m: division by zero"
     ]
    }
   ],
   "source": [
    "result=1/0"
   ]
  },
  {
   "cell_type": "code",
   "execution_count": 6,
   "id": "67aa8451",
   "metadata": {},
   "outputs": [
    {
     "name": "stdout",
     "output_type": "stream",
     "text": [
      "division by zero\n",
      "please dont do division with zero\n"
     ]
    }
   ],
   "source": [
    "try:\n",
    "    result=1/0\n",
    "except ZeroDivisionError as ex:\n",
    "    print(ex)\n",
    "    print(\"please dont do division with zero\")"
   ]
  },
  {
   "cell_type": "code",
   "execution_count": null,
   "metadata": {},
   "outputs": [
    {
     "name": "stdout",
     "output_type": "stream",
     "text": [
      "name 'b' is not defined\n"
     ]
    }
   ],
   "source": [
    "try:\n",
    "    result=1/2\n",
    "    a=b\n",
    "except ZeroDivisionError as ex:\n",
    "    print(ex)\n",
    "    print(\"please dont do division with zero\")\n",
    "\n",
    "except Exception as ff: # base class to handle all errors\n",
    "    print(ff)\n",
    "    print(\"main exception got caught\")"
   ]
  },
  {
   "cell_type": "code",
   "execution_count": 12,
   "id": "9b4f976a",
   "metadata": {},
   "outputs": [],
   "source": [
    "try:\n",
    "    num=int(input(\"enter a num\"))\n",
    "    res=10/num\n",
    "except ValueError:\n",
    "    print(\"enter valid num\")\n",
    "\n",
    "except ZeroDivisionError:\n",
    "    print(\"enter denominator greater than zero\")\n",
    "\n",
    "except Exception as ex:\n",
    "    print(ex)\n"
   ]
  },
  {
   "cell_type": "code",
   "execution_count": 16,
   "id": "ee9e70ba",
   "metadata": {},
   "outputs": [
    {
     "name": "stdout",
     "output_type": "stream",
     "text": [
      "the result is 0.2222222222222222\n"
     ]
    }
   ],
   "source": [
    "# try , except, else block\n",
    "\n",
    "try:  # try\n",
    "    num=int(input(\"enter a num\"))\n",
    "    res=10/num\n",
    "except ValueError: #catch\n",
    "    print(\"enter valid num\")\n",
    "except ZeroDivisionError: #catch\n",
    "    print(\"enter denominator greater than zero\")\n",
    "except Exception as ex: #catch(err)\n",
    "    print(ex)\n",
    "\n",
    "\n",
    "#f try has succesfully excecuted so then else block will execute \"\"\"\n",
    "else: \n",
    "    print(f\"the result is {res}\")\n"
   ]
  },
  {
   "cell_type": "code",
   "execution_count": 19,
   "id": "f019201c",
   "metadata": {},
   "outputs": [
    {
     "name": "stdout",
     "output_type": "stream",
     "text": [
      "the result is 0.2222222222222222\n",
      "excuetion completed\n"
     ]
    }
   ],
   "source": [
    "# try , except, else block , finally b\n",
    "\n",
    "try:  # try\n",
    "    num=int(input(\"enter a num\"))\n",
    "    res=10/num\n",
    "except ValueError: #catch\n",
    "    print(\"enter valid num\")\n",
    "except ZeroDivisionError: #catch\n",
    "    print(\"enter denominator greater than zero\")\n",
    "except Exception as ex: #catch(err)\n",
    "    print(ex)\n",
    "\n",
    "\n",
    "#f try has succesfully excecuted so then else block will execute \"\"\"\n",
    "else: \n",
    "    print(f\"the result is {res}\")\n",
    "\n",
    "finally: # no matter what finally block will always get executed\n",
    "    print(f\"excuetion completed\")\n"
   ]
  },
  {
   "cell_type": "code",
   "execution_count": 22,
   "id": "5f53086c",
   "metadata": {},
   "outputs": [
    {
     "name": "stdout",
     "output_type": "stream",
     "text": [
      "the file does not exists\n"
     ]
    }
   ],
   "source": [
    "## file handling and exception handling\n",
    "\n",
    "try:\n",
    "    file=open('example.txt','r')\n",
    "    content=file.read()\n",
    "    print(content)\n",
    "\n",
    "except FileNotFoundError:\n",
    "    print(\"the file does not exists\")\n",
    "\n",
    "except Exception as ex:\n",
    "    print(ex)\n",
    "\n",
    "finally:\n",
    "    if 'file' in locals() and file.closed():\n",
    "        file.close()\n",
    "        print(\"file close\")\n",
    "\n",
    "\n"
   ]
  },
  {
   "cell_type": "code",
   "execution_count": 23,
   "id": "40492689",
   "metadata": {},
   "outputs": [
    {
     "name": "stdout",
     "output_type": "stream",
     "text": [
      "Result is: 0.2222222222222222\n",
      "❌ File not found! Please check the filename.\n",
      "🔒 This will always execute (e.g., closing resources).\n"
     ]
    }
   ],
   "source": [
    "# Exception Handling in Python (All-in-One Example)\n",
    "\n",
    "try:\n",
    "    # Code that may raise different types of exceptions\n",
    "    num = int(input(\"Enter a number: \"))   # ValueError if non-numeric\n",
    "    result = 10 / num                      # ZeroDivisionError if num = 0\n",
    "    print(\"Result is:\", result)\n",
    "    \n",
    "    file = open(\"sample.txt\", \"r\")         # FileNotFoundError if file doesn’t exist\n",
    "    print(file.read())\n",
    "    file.close()\n",
    "\n",
    "except ValueError:\n",
    "    print(\"❌ Invalid input! Please enter a number.\")\n",
    "except ZeroDivisionError:\n",
    "    print(\"❌ Division by zero is not allowed.\")\n",
    "except FileNotFoundError:\n",
    "    print(\"❌ File not found! Please check the filename.\")\n",
    "except Exception as e:  # General exception (fallback)\n",
    "    print(\"⚠️ Some unexpected error occurred:\", e)\n",
    "\n",
    "else:\n",
    "    print(\"✅ No exceptions occurred, everything went well.\")\n",
    "finally:\n",
    "    print(\"🔒 This will always execute (e.g., closing resources).\")\n"
   ]
  },
  {
   "cell_type": "code",
   "execution_count": 24,
   "id": "86ca6de9",
   "metadata": {},
   "outputs": [
    {
     "name": "stdout",
     "output_type": "stream",
     "text": [
      "⚠️ config.txt not found! Using default settings.\n",
      "✅ Log written successfully.\n",
      "✅ Withdrawal successful. Remaining Balance = 975\n"
     ]
    }
   ],
   "source": [
    "# Real-World File Handling with Exception Handling\n",
    "\n",
    "# 1. Reading a configuration file safely\n",
    "try:\n",
    "    with open(\"config.txt\", \"r\") as f:\n",
    "        settings = f.read()\n",
    "        print(\"Configuration Loaded:\", settings)\n",
    "except FileNotFoundError:\n",
    "    print(\"⚠️ config.txt not found! Using default settings.\")\n",
    "\n",
    "# 2. Writing logs (appending mode)\n",
    "try:\n",
    "    with open(\"app_log.txt\", \"a\") as f:\n",
    "        f.write(\"User logged in successfully.\\n\")\n",
    "        print(\"✅ Log written successfully.\")\n",
    "except PermissionError:\n",
    "    print(\"❌ Permission denied while writing log file.\")\n",
    "\n",
    "# 3. Banking Transaction Example\n",
    "try:\n",
    "    balance = 1000\n",
    "    withdraw = int(input(\"Enter withdrawal amount: \"))\n",
    "    if withdraw > balance:\n",
    "        raise Exception(\"Insufficient Balance!\")\n",
    "    balance -= withdraw\n",
    "    print(f\"✅ Withdrawal successful. Remaining Balance = {balance}\")\n",
    "except Exception as e:\n",
    "    print(\"⚠️ Transaction Failed:\", e)\n"
   ]
  },
  {
   "cell_type": "code",
   "execution_count": null,
   "id": "affe0116",
   "metadata": {},
   "outputs": [],
   "source": []
  },
  {
   "cell_type": "code",
   "execution_count": null,
   "id": "b4ffb16a",
   "metadata": {},
   "outputs": [],
   "source": []
  }
 ],
 "metadata": {
  "kernelspec": {
   "display_name": "py_env",
   "language": "python",
   "name": "python3"
  },
  "language_info": {
   "codemirror_mode": {
    "name": "ipython",
    "version": 3
   },
   "file_extension": ".py",
   "mimetype": "text/x-python",
   "name": "python",
   "nbconvert_exporter": "python",
   "pygments_lexer": "ipython3",
   "version": "3.12.11"
  }
 },
 "nbformat": 4,
 "nbformat_minor": 5
}
