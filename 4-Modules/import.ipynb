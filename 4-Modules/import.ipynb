{
 "cells": [
  {
   "cell_type": "code",
   "execution_count": 12,
   "id": "6b0a8fd4",
   "metadata": {},
   "outputs": [
    {
     "data": {
      "text/plain": [
       "4.0"
      ]
     },
     "execution_count": 12,
     "metadata": {},
     "output_type": "execute_result"
    }
   ],
   "source": [
    "import math #Pkg name math\n",
    "math.sqrt(16)"
   ]
  },
  {
   "cell_type": "code",
   "execution_count": 1,
   "id": "5b15ced9",
   "metadata": {},
   "outputs": [
    {
     "name": "stdout",
     "output_type": "stream",
     "text": [
      "4.0\n",
      "3.141592653589793\n"
     ]
    }
   ],
   "source": [
    "from math import sqrt ,pi# for specifc use case\n",
    "\n",
    "print(sqrt(16))\n",
    "print(pi)"
   ]
  },
  {
   "cell_type": "code",
   "execution_count": 3,
   "id": "92c09993",
   "metadata": {},
   "outputs": [
    {
     "data": {
      "text/plain": [
       "array([1, 2, 3, 4])"
      ]
     },
     "execution_count": 3,
     "metadata": {},
     "output_type": "execute_result"
    }
   ],
   "source": [
    "import numpy as np\n",
    "np.array([1,2,3,4])"
   ]
  },
  {
   "cell_type": "code",
   "execution_count": 5,
   "id": "1720c689",
   "metadata": {},
   "outputs": [
    {
     "data": {
      "text/plain": [
       "5"
      ]
     },
     "execution_count": 5,
     "metadata": {},
     "output_type": "execute_result"
    }
   ],
   "source": [
    "from package.maths import addition\n",
    "addition(2,3)"
   ]
  },
  {
   "cell_type": "code",
   "execution_count": null,
   "id": "5a03254c",
   "metadata": {},
   "outputs": [],
   "source": [
    "from package import maths as mt\n",
    "mt.addition(5,6)"
   ]
  },
  {
   "cell_type": "code",
   "execution_count": 2,
   "id": "6d4600be",
   "metadata": {},
   "outputs": [
    {
     "name": "stdout",
     "output_type": "stream",
     "text": [
      "Square root using math.sqrt: 4.0\n",
      "Numpy array: [1 2 3]\n",
      "Value of pi: 3.141592653589793\n",
      "Factorial of 5: 120\n",
      "Cosine of 0: 1.0\n",
      "Log of 10: 2.302585092994046\n",
      "Random number: 46\n",
      "Custom module 'mymodule.py' not found in this folder\n",
      "Current date: 2025-08-31\n",
      "Current working directory: e:\\ML CODES\\4-Modules\n",
      "Python executable path: c:\\Users\\harsh\\anaconda3\\envs\\py_env\\python.exe\n",
      "Square root alias: 5.0\n",
      "Math module available functions: ['__doc__', '__loader__', '__name__', '__package__', '__spec__', 'acos', 'acosh', 'asin', 'asinh', 'atan']\n",
      "Module search paths: ['c:\\\\Users\\\\harsh\\\\anaconda3\\\\envs\\\\py_env\\\\python312.zip', 'c:\\\\Users\\\\harsh\\\\anaconda3\\\\envs\\\\py_env\\\\DLLs', 'c:\\\\Users\\\\harsh\\\\anaconda3\\\\envs\\\\py_env\\\\Lib']\n",
      "This script's __name__ is: __main__\n"
     ]
    }
   ],
   "source": [
    "# ================================\n",
    "# 📌 IMPORT MODULES IN PYTHON - ALL IN ONE\n",
    "# ================================\n",
    "\n",
    "# 1. Basic import\n",
    "import math\n",
    "print(\"Square root using math.sqrt:\", math.sqrt(16))\n",
    "\n",
    "# 2. Import with alias (short name)\n",
    "import numpy as np\n",
    "arr = np.array([1, 2, 3])\n",
    "print(\"Numpy array:\", arr)\n",
    "\n",
    "# 3. Import specific functions/classes from module\n",
    "from math import pi, factorial\n",
    "print(\"Value of pi:\", pi)\n",
    "print(\"Factorial of 5:\", factorial(5))\n",
    "\n",
    "# 4. Import everything (*) from module (⚠️ not recommended)\n",
    "from math import *\n",
    "print(\"Cosine of 0:\", cos(0))\n",
    "\n",
    "# 5. Import inside a function (lazy import)\n",
    "def calculate_log(x):\n",
    "    import math  # Imported only when function is called\n",
    "    return math.log(x)\n",
    "\n",
    "print(\"Log of 10:\", calculate_log(10))\n",
    "\n",
    "# 6. Conditional import\n",
    "if True:\n",
    "    import random\n",
    "    print(\"Random number:\", random.randint(1, 100))\n",
    "\n",
    "# 7. Import custom module (local file, assume mymodule.py exists)\n",
    "# Example file mymodule.py:\n",
    "# def greet(name): return f\"Hello {name}\"\n",
    "try:\n",
    "    import mymodule\n",
    "    print(mymodule.greet(\"Harshal\"))\n",
    "except ModuleNotFoundError:\n",
    "    print(\"Custom module 'mymodule.py' not found in this folder\")\n",
    "\n",
    "# 8. Import module with renaming (aliasing multiple times)\n",
    "import datetime as dt\n",
    "print(\"Current date:\", dt.date.today())\n",
    "\n",
    "# 9. Import multiple modules in one line\n",
    "import os, sys\n",
    "print(\"Current working directory:\", os.getcwd())\n",
    "print(\"Python executable path:\", sys.executable)\n",
    "\n",
    "# 10. Use 'as' for specific functions (function alias)\n",
    "from math import sqrt as square_root\n",
    "print(\"Square root alias:\", square_root(25))\n",
    "\n",
    "# 11. Reloading a module (useful in Jupyter / dev mode)\n",
    "import importlib\n",
    "import math\n",
    "importlib.reload(math)\n",
    "\n",
    "# 12. Exploring module contents\n",
    "import math\n",
    "print(\"Math module available functions:\", dir(math)[:10])  # print only first 10\n",
    "\n",
    "# 13. sys.path (how Python searches modules)\n",
    "import sys\n",
    "print(\"Module search paths:\", sys.path[:3])  # only first 3 paths\n",
    "\n",
    "# 14. Using __name__ in a module\n",
    "# (in any Python file: if __name__ == \"__main__\": ...)\n",
    "print(\"This script's __name__ is:\", __name__)\n",
    "\n",
    "# ================================\n",
    "# END OF IMPORT MODULE EXAMPLES\n",
    "# ================================\n"
   ]
  }
 ],
 "metadata": {
  "kernelspec": {
   "display_name": "py_env",
   "language": "python",
   "name": "python3"
  },
  "language_info": {
   "codemirror_mode": {
    "name": "ipython",
    "version": 3
   },
   "file_extension": ".py",
   "mimetype": "text/x-python",
   "name": "python",
   "nbconvert_exporter": "python",
   "pygments_lexer": "ipython3",
   "version": "3.12.11"
  }
 },
 "nbformat": 4,
 "nbformat_minor": 5
}
