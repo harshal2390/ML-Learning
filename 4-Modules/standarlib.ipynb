{
 "cells": [
  {
   "cell_type": "code",
   "execution_count": 1,
   "id": "ae0b5d58",
   "metadata": {},
   "outputs": [
    {
     "name": "stdout",
     "output_type": "stream",
     "text": [
      "array('i', [1, 2, 3, 4])\n"
     ]
    }
   ],
   "source": [
    "import array\n",
    "arr=array.array('i',[1,2,3,4])\n",
    "print(arr)"
   ]
  },
  {
   "cell_type": "code",
   "execution_count": 1,
   "id": "99d43395",
   "metadata": {},
   "outputs": [
    {
     "name": "stdout",
     "output_type": "stream",
     "text": [
      "8\n",
      "bananan\n"
     ]
    }
   ],
   "source": [
    "import random\n",
    "print(random.randint(1,10))\n",
    "print(random.choice([\"apple\",\"bananan\",\"cherrry\"]))"
   ]
  },
  {
   "cell_type": "code",
   "execution_count": 22,
   "id": "bcf70baf",
   "metadata": {},
   "outputs": [
    {
     "name": "stdout",
     "output_type": "stream",
     "text": [
      "e:\\ML CODES\\4-Modules\n"
     ]
    }
   ],
   "source": [
    "## file and directroy access\n",
    "import os\n",
    "print(os.getcwd())"
   ]
  },
  {
   "cell_type": "code",
   "execution_count": 23,
   "id": "d23c0650",
   "metadata": {},
   "outputs": [],
   "source": [
    "os.mkdir('test_dir')"
   ]
  },
  {
   "cell_type": "code",
   "execution_count": 25,
   "id": "d6cdc27a",
   "metadata": {},
   "outputs": [
    {
     "data": {
      "text/plain": [
       "'destination.txt'"
      ]
     },
     "execution_count": 25,
     "metadata": {},
     "output_type": "execute_result"
    }
   ],
   "source": [
    "## High level operations on files and collection of files\n",
    "import shutil\n",
    "shutil.copyfile('source.txt','destination.txt')"
   ]
  },
  {
   "cell_type": "code",
   "execution_count": null,
   "id": "e316906e",
   "metadata": {},
   "outputs": [],
   "source": [
    "## Data Serialization\n",
    "import json\n",
    "data={'name':'harshal','age':22}\n",
    "\n",
    "json_str=json.dumps(data)\n",
    "print(json_str)\n",
    "print(type(json_str))\n",
    "\n",
    "parsed_data=json.loads(json_str)\n",
    "print(parsed_data)\n",
    "print(type(parsed_data))\n"
   ]
  },
  {
   "cell_type": "code",
   "execution_count": 26,
   "id": "0cc36ef1",
   "metadata": {},
   "outputs": [
    {
     "name": "stdout",
     "output_type": "stream",
     "text": [
      "['name', 'age']\n",
      "['harshal', '22']\n"
     ]
    }
   ],
   "source": [
    "## csv\n",
    "\n",
    "import csv\n",
    "\n",
    "with open('example.csv',mode='w',newline='') as file:\n",
    "    writer=csv.writer(file)\n",
    "    writer.writerow(['name','age'])\n",
    "    writer.writerow(['harshal',22])\n",
    "\n",
    "with open('example.csv',mode='r') as file:\n",
    "    reader=csv.reader(file)\n",
    "    for row in reader:\n",
    "        print(row)"
   ]
  },
  {
   "cell_type": "code",
   "execution_count": 27,
   "id": "c33d17c4",
   "metadata": {},
   "outputs": [
    {
     "name": "stdout",
     "output_type": "stream",
     "text": [
      "2025-08-31 11:44:01.585604\n",
      "2025-08-30 11:44:01.585604\n"
     ]
    }
   ],
   "source": [
    "## datetime\n",
    "from datetime import datetime,timedelta\n",
    "\n",
    "now=datetime.now()\n",
    "print(now)\n",
    "\n",
    "yesterday=now-timedelta(days=1)\n",
    "\n",
    "print(yesterday)"
   ]
  },
  {
   "cell_type": "code",
   "execution_count": 28,
   "id": "460eb085",
   "metadata": {},
   "outputs": [
    {
     "name": "stdout",
     "output_type": "stream",
     "text": [
      "1756620849.5083764\n",
      "1756620851.5096285\n"
     ]
    }
   ],
   "source": [
    "## time\n",
    "import time\n",
    "print(time.time())\n",
    "time.sleep(2)\n",
    "print(time.time())"
   ]
  },
  {
   "cell_type": "code",
   "execution_count": 29,
   "id": "3a7b7946",
   "metadata": {},
   "outputs": [
    {
     "name": "stdout",
     "output_type": "stream",
     "text": [
      "123\n"
     ]
    }
   ],
   "source": [
    "## Regular expresiion\n",
    "import re\n",
    "\n",
    "pattern=r'\\d+'\n",
    "text='There are 123 apples 456'\n",
    "match=re.search(pattern,text)\n",
    "print(match.group())"
   ]
  },
  {
   "cell_type": "code",
   "execution_count": 2,
   "id": "00e4019f",
   "metadata": {},
   "outputs": [
    {
     "name": "stdout",
     "output_type": "stream",
     "text": [
      "Current Working Directory: e:\\ML CODES\\4-Modules\n",
      "List of files in current directory: ['destination.txt', 'example.csv', 'import.ipynb', 'package', 'source.txt', 'standarlib.ipynb', 'test.py', 'test_dir']\n",
      "Python version: 3.12.11 | packaged by Anaconda, Inc. | (main, Jun  5 2025, 12:58:53) [MSC v.1929 64 bit (AMD64)]\n",
      "Path where Python looks for modules: ['c:\\\\Users\\\\harsh\\\\anaconda3\\\\envs\\\\py_env\\\\python312.zip', 'c:\\\\Users\\\\harsh\\\\anaconda3\\\\envs\\\\py_env\\\\DLLs', 'c:\\\\Users\\\\harsh\\\\anaconda3\\\\envs\\\\py_env\\\\Lib', 'c:\\\\Users\\\\harsh\\\\anaconda3\\\\envs\\\\py_env', '', 'C:\\\\Users\\\\harsh\\\\AppData\\\\Roaming\\\\Python\\\\Python312\\\\site-packages', 'c:\\\\Users\\\\harsh\\\\anaconda3\\\\envs\\\\py_env\\\\Lib\\\\site-packages', 'c:\\\\Users\\\\harsh\\\\anaconda3\\\\envs\\\\py_env\\\\Lib\\\\site-packages\\\\win32', 'c:\\\\Users\\\\harsh\\\\anaconda3\\\\envs\\\\py_env\\\\Lib\\\\site-packages\\\\win32\\\\lib', 'c:\\\\Users\\\\harsh\\\\anaconda3\\\\envs\\\\py_env\\\\Lib\\\\site-packages\\\\Pythonwin']\n",
      "Square root of 16: 4.0\n",
      "Factorial of 5: 120\n",
      "Pi value: 3.141592653589793\n",
      "Current DateTime: 2025-08-31 14:48:36.169516\n",
      "Today’s Date: 2025-08-31\n",
      "Current Year: 2025\n",
      "Random integer between 1 and 10: 1\n",
      "Random choice from a list: C++\n",
      "Dictionary to JSON: {\"name\": \"Harshal\", \"age\": 21, \"skills\": [\"Python\", \"ML\"]}\n",
      "JSON back to dict: {'name': 'Harshal', 'age': 21, 'skills': ['Python', 'ML']}\n",
      "Counter Example: Counter({'a': 3, 'n': 2, 'b': 1})\n",
      "DefaultDict Example: {'Python': 1}\n",
      "All permutations of [1,2,3]: [(1, 2, 3), (1, 3, 2), (2, 1, 3), (2, 3, 1), (3, 1, 2), (3, 2, 1)]\n",
      "All combinations of 2 elements: [(1, 2), (1, 3), (2, 3)]\n",
      "Mean: 30\n",
      "Median: 30\n",
      "Standard Deviation: 15.811388300841896\n",
      "Current time in seconds since epoch: 1756631916.1709929\n",
      "Time taken to sleep: 1.0013964176177979 seconds\n"
     ]
    }
   ],
   "source": [
    "# 1. OS → interacting with operating system\n",
    "import os\n",
    "print(\"Current Working Directory:\", os.getcwd())  \n",
    "print(\"List of files in current directory:\", os.listdir(\".\"))\n",
    "\n",
    "# 2. SYS → system-specific parameters and functions\n",
    "import sys\n",
    "print(\"Python version:\", sys.version)\n",
    "print(\"Path where Python looks for modules:\", sys.path)\n",
    "\n",
    "# 3. MATH → mathematical operations\n",
    "import math\n",
    "print(\"Square root of 16:\", math.sqrt(16))\n",
    "print(\"Factorial of 5:\", math.factorial(5))\n",
    "print(\"Pi value:\", math.pi)\n",
    "\n",
    "# 4. DATETIME → date and time operations\n",
    "import datetime\n",
    "now = datetime.datetime.now()\n",
    "print(\"Current DateTime:\", now)\n",
    "print(\"Today’s Date:\", now.date())\n",
    "print(\"Current Year:\", now.year)\n",
    "\n",
    "# 5. RANDOM → generating random numbers\n",
    "import random\n",
    "print(\"Random integer between 1 and 10:\", random.randint(1, 10))\n",
    "print(\"Random choice from a list:\", random.choice([\"Python\", \"Java\", \"C++\"]))\n",
    "\n",
    "# 6. JSON → working with JSON (used a lot in APIs)\n",
    "import json\n",
    "data = {\"name\": \"Harshal\", \"age\": 21, \"skills\": [\"Python\", \"ML\"]}\n",
    "json_string = json.dumps(data)   # dict → JSON string\n",
    "print(\"Dictionary to JSON:\", json_string)\n",
    "parsed = json.loads(json_string)  # JSON string → dict\n",
    "print(\"JSON back to dict:\", parsed)\n",
    "\n",
    "# 7. COLLECTIONS → extra data structures\n",
    "from collections import Counter, defaultdict\n",
    "print(\"Counter Example:\", Counter(\"banana\"))  # counts occurrences\n",
    "dd = defaultdict(int)\n",
    "dd[\"Python\"] += 1\n",
    "print(\"DefaultDict Example:\", dict(dd))\n",
    "\n",
    "# 8. ITERTOOLS → working with iterators\n",
    "import itertools\n",
    "nums = [1, 2, 3]\n",
    "print(\"All permutations of [1,2,3]:\", list(itertools.permutations(nums)))\n",
    "print(\"All combinations of 2 elements:\", list(itertools.combinations(nums, 2)))\n",
    "\n",
    "# 9. STATISTICS → simple statistics\n",
    "import statistics as st\n",
    "data = [10, 20, 30, 40, 50]\n",
    "print(\"Mean:\", st.mean(data))\n",
    "print(\"Median:\", st.median(data))\n",
    "print(\"Standard Deviation:\", st.stdev(data))\n",
    "\n",
    "# 10. TIME → working with sleep and measuring execution\n",
    "import time\n",
    "print(\"Current time in seconds since epoch:\", time.time())\n",
    "start = time.time()\n",
    "time.sleep(1)   # pauses program for 1 sec\n",
    "end = time.time()\n",
    "print(\"Time taken to sleep:\", end - start, \"seconds\")\n"
   ]
  }
 ],
 "metadata": {
  "kernelspec": {
   "display_name": "py_env",
   "language": "python",
   "name": "python3"
  },
  "language_info": {
   "codemirror_mode": {
    "name": "ipython",
    "version": 3
   },
   "file_extension": ".py",
   "mimetype": "text/x-python",
   "name": "python",
   "nbconvert_exporter": "python",
   "pygments_lexer": "ipython3",
   "version": "3.12.11"
  }
 },
 "nbformat": 4,
 "nbformat_minor": 5
}
