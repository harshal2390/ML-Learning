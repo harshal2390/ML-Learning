{
 "cells": [
  {
   "cell_type": "code",
   "execution_count": null,
   "id": "7b4d8e77",
   "metadata": {},
   "outputs": [
    {
     "name": "stdout",
     "output_type": "stream",
     "text": [
      "hello i am harshal\n",
      "currently in btech\n",
      "branch is aiml\n",
      "last year \n"
     ]
    }
   ],
   "source": [
    "## read a whole file\n",
    "\"\"\" r means read mode \"\"\"\n",
    "with open(\"example.txt\",'r') as file:\n",
    "\n",
    "    content=file.read()\n",
    "    print(content)"
   ]
  },
  {
   "cell_type": "code",
   "execution_count": 6,
   "id": "da74944d",
   "metadata": {},
   "outputs": [
    {
     "name": "stdout",
     "output_type": "stream",
     "text": [
      "hello i am harshal\n",
      "currently in btech\n",
      "branch is aiml\n",
      "last year\n"
     ]
    }
   ],
   "source": [
    "## read a file line by line\n",
    "\n",
    "with open(\"example.txt\",'r') as file:\n",
    "    for ch in file:  #using for loop we can do it\n",
    "        print(ch.strip()) \n",
    "        \"\"\" strip removes the newline chars\"\"\""
   ]
  },
  {
   "cell_type": "code",
   "execution_count": null,
   "id": "e48b5721",
   "metadata": {},
   "outputs": [],
   "source": [
    "## writing a file(overwriting)\n",
    "\"\"\" w means read write \"\"\"\n",
    "with open(\"example.txt\",'w') as file:\n",
    "    file.write(\"Hello world!\\n\")\n",
    "    file.write(\"this is a new line\")"
   ]
  },
  {
   "cell_type": "code",
   "execution_count": null,
   "id": "f377ec52",
   "metadata": {},
   "outputs": [],
   "source": [
    "# write a file without overwriting\n",
    "\"\"\" a means append mode \"\"\"\n",
    "with open(\"example.txt\",'a') as file:\n",
    "    file.write(\"\\nnew line using append\\n\")\n",
    "    file.write(\"dsfdsff\")\n"
   ]
  },
  {
   "cell_type": "code",
   "execution_count": 12,
   "id": "560005d2",
   "metadata": {},
   "outputs": [],
   "source": [
    "### Writing a list of lines to a file\n",
    "lines=['First line \\n','Second line \\n','Third line\\n']\n",
    "with open('example.txt','a') as file:\n",
    "    file.writelines(lines)"
   ]
  },
  {
   "cell_type": "code",
   "execution_count": null,
   "id": "a33b4df8",
   "metadata": {},
   "outputs": [],
   "source": [
    "### Binary Files\n",
    "\"\"\" write binary as wb\n",
    " \"\"\"# Writing to a binary file\n",
    "data = b'\\x00\\x01\\x02\\x03\\x04'\n",
    "with open('example.bin', 'wb') as file:\n",
    "    file.write(data)\n"
   ]
  },
  {
   "cell_type": "code",
   "execution_count": null,
   "id": "1638de1f",
   "metadata": {},
   "outputs": [
    {
     "name": "stdout",
     "output_type": "stream",
     "text": [
      "b'\\x00\\x01\\x02\\x03\\x04'\n"
     ]
    }
   ],
   "source": [
    "# Reading a binary file\n",
    "\"\"\" read binary as rb \"\"\"\n",
    "with open('example.bin', 'rb') as file:\n",
    "    content = file.read()\n",
    "    print(content)"
   ]
  },
  {
   "cell_type": "code",
   "execution_count": 15,
   "id": "94bcb61a",
   "metadata": {},
   "outputs": [],
   "source": [
    "### Read the content froma  source text fiile and write to a destination text file\n",
    "# Copying a text file\n",
    "with open('example.txt', 'r') as source_file:\n",
    "    content = source_file.read()\n",
    "\n",
    "with open('destination.txt', 'w') as destination_file:\n",
    "    destination_file.write(content)\n"
   ]
  },
  {
   "cell_type": "code",
   "execution_count": 16,
   "id": "ea2abe7d",
   "metadata": {},
   "outputs": [
    {
     "name": "stdout",
     "output_type": "stream",
     "text": [
      "Lines: 8, Words: 22, Characters: 129\n"
     ]
    }
   ],
   "source": [
    "#Read a text file and count the number of lines, words, and characters.\n",
    "# Counting lines, words, and characters in a text file\n",
    "def count_text_file(file_path):\n",
    "    with open(file_path, 'r') as file:\n",
    "        lines = file.readlines()\n",
    "        line_count = len(lines)\n",
    "        word_count = sum(len(line.split()) for line in lines)\n",
    "        char_count = sum(len(line) for line in lines)\n",
    "    return line_count, word_count, char_count\n",
    "\n",
    "file_path = 'example.txt'\n",
    "lines, words, characters = count_text_file(file_path)\n",
    "print(f'Lines: {lines}, Words: {words}, Characters: {characters}')\n"
   ]
  },
  {
   "cell_type": "code",
   "execution_count": 17,
   "id": "f45d0ffb",
   "metadata": {},
   "outputs": [
    {
     "name": "stdout",
     "output_type": "stream",
     "text": [
      "Hello world\n",
      "This is a new line \n",
      "\n"
     ]
    }
   ],
   "source": [
    "### Writing and then reading a file\n",
    "\n",
    "with open('example.txt','w+') as file:\n",
    "    file.write(\"Hello world\\n\")\n",
    "    file.write(\"This is a new line \\n\")\n",
    "\n",
    "    ## Move the file cursor to the beginning\n",
    "    file.seek(0)\n",
    "\n",
    "    ## Read the content of the file\n",
    "    content=file.read()\n",
    "    print(content)"
   ]
  },
  {
   "cell_type": "code",
   "execution_count": 18,
   "id": "ae227293",
   "metadata": {},
   "outputs": [
    {
     "name": "stdout",
     "output_type": "stream",
     "text": [
      "📖 Read Entire File:\n",
      " Hello, Python!\n",
      "This is line 2.\n",
      "This is appended line 3.\n",
      "\n",
      "➡️ Line: Hello, Python!\n",
      "➡️ Line: This is line 2.\n",
      "➡️ Line: This is appended line 3.\n",
      "🔟 First 10 characters: Hello, Pyt\n",
      "📑 List of Lines: ['Hello, Python!\\n', 'This is line 2.\\n', 'This is appended line 3.\\n']\n",
      "📍 Initial Pointer Position: 0\n",
      "Read 5 chars: Hello\n",
      "📍 Pointer after reading: 5\n",
      "After seek → First line: Hello, Python!\n",
      "✅ File exists!\n"
     ]
    }
   ],
   "source": [
    "# 📂 File Handling in Python (All Important Operations in One Go)\n",
    "\n",
    "# 1. Creating & Writing to a File (w mode → overwrite if file exists)\n",
    "with open(\"example.txt\", \"w\") as f:\n",
    "    f.write(\"Hello, Python!\\n\")\n",
    "    f.write(\"This is line 2.\\n\")\n",
    "\n",
    "# 2. Appending to a File (a mode → keeps existing content, adds new)\n",
    "with open(\"example.txt\", \"a\") as f:\n",
    "    f.write(\"This is appended line 3.\\n\")\n",
    "\n",
    "# 3. Reading the Entire File (r mode)\n",
    "with open(\"example.txt\", \"r\") as f:\n",
    "    content = f.read()\n",
    "print(\"📖 Read Entire File:\\n\", content)\n",
    "\n",
    "# 4. Reading Line by Line\n",
    "with open(\"example.txt\", \"r\") as f:\n",
    "    for line in f:\n",
    "        print(\"➡️ Line:\", line.strip())\n",
    "\n",
    "# 5. Reading Specific Number of Characters\n",
    "with open(\"example.txt\", \"r\") as f:\n",
    "    first10 = f.read(10)   # read first 10 chars\n",
    "print(\"🔟 First 10 characters:\", first10)\n",
    "\n",
    "# 6. Reading All Lines into a List\n",
    "with open(\"example.txt\", \"r\") as f:\n",
    "    lines = f.readlines()\n",
    "print(\"📑 List of Lines:\", lines)\n",
    "\n",
    "# 7. Using tell() and seek() → File pointer manipulation\n",
    "with open(\"example.txt\", \"r\") as f:\n",
    "    print(\"📍 Initial Pointer Position:\", f.tell())\n",
    "    part = f.read(5)\n",
    "    print(\"Read 5 chars:\", part)\n",
    "    print(\"📍 Pointer after reading:\", f.tell())\n",
    "    f.seek(0)  # move pointer back to start\n",
    "    print(\"After seek → First line:\", f.readline().strip())\n",
    "\n",
    "# 8. Checking if File Exists before Reading (os module)\n",
    "import os\n",
    "if os.path.exists(\"example.txt\"):\n",
    "    print(\"✅ File exists!\")\n",
    "else:\n",
    "    print(\"❌ File not found!\")\n",
    "\n",
    "# 9. Deleting a File\n",
    "# os.remove(\"example.txt\")   # Uncomment to delete the file\n"
   ]
  }
 ],
 "metadata": {
  "kernelspec": {
   "display_name": "py_env",
   "language": "python",
   "name": "python3"
  },
  "language_info": {
   "codemirror_mode": {
    "name": "ipython",
    "version": 3
   },
   "file_extension": ".py",
   "mimetype": "text/x-python",
   "name": "python",
   "nbconvert_exporter": "python",
   "pygments_lexer": "ipython3",
   "version": "3.12.11"
  }
 },
 "nbformat": 4,
 "nbformat_minor": 5
}
